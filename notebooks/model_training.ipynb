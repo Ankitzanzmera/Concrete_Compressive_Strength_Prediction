{
 "cells": [
  {
   "cell_type": "code",
   "execution_count": 77,
   "metadata": {},
   "outputs": [],
   "source": [
    "import pandas as pd\n",
    "import seaborn as sns\n",
    "import matplotlib.pyplot as plt\n",
    "from sklearn.impute import SimpleImputer\n",
    "from sklearn.preprocessing import StandardScaler,MinMaxScaler,PowerTransformer\n",
    "from sklearn.pipeline import Pipeline\n",
    "from sklearn.model_selection import train_test_split"
   ]
  },
  {
   "cell_type": "markdown",
   "metadata": {},
   "source": [
    "## Model Training"
   ]
  },
  {
   "cell_type": "code",
   "execution_count": 78,
   "metadata": {},
   "outputs": [
    {
     "data": {
      "text/html": [
       "<div>\n",
       "<style scoped>\n",
       "    .dataframe tbody tr th:only-of-type {\n",
       "        vertical-align: middle;\n",
       "    }\n",
       "\n",
       "    .dataframe tbody tr th {\n",
       "        vertical-align: top;\n",
       "    }\n",
       "\n",
       "    .dataframe thead th {\n",
       "        text-align: right;\n",
       "    }\n",
       "</style>\n",
       "<table border=\"1\" class=\"dataframe\">\n",
       "  <thead>\n",
       "    <tr style=\"text-align: right;\">\n",
       "      <th></th>\n",
       "      <th>cement</th>\n",
       "      <th>blast_furnace_slag</th>\n",
       "      <th>fly_ash</th>\n",
       "      <th>water</th>\n",
       "      <th>superplasticizer</th>\n",
       "      <th>coarse_aggregate</th>\n",
       "      <th>fine_aggregate</th>\n",
       "      <th>age</th>\n",
       "      <th>concrete_compressive_strength</th>\n",
       "    </tr>\n",
       "  </thead>\n",
       "  <tbody>\n",
       "    <tr>\n",
       "      <th>0</th>\n",
       "      <td>540.0</td>\n",
       "      <td>0.0</td>\n",
       "      <td>0.0</td>\n",
       "      <td>162.0</td>\n",
       "      <td>2.5</td>\n",
       "      <td>1040.0</td>\n",
       "      <td>676.0</td>\n",
       "      <td>28</td>\n",
       "      <td>79.99</td>\n",
       "    </tr>\n",
       "    <tr>\n",
       "      <th>1</th>\n",
       "      <td>540.0</td>\n",
       "      <td>0.0</td>\n",
       "      <td>0.0</td>\n",
       "      <td>162.0</td>\n",
       "      <td>2.5</td>\n",
       "      <td>1055.0</td>\n",
       "      <td>676.0</td>\n",
       "      <td>28</td>\n",
       "      <td>61.89</td>\n",
       "    </tr>\n",
       "    <tr>\n",
       "      <th>2</th>\n",
       "      <td>332.5</td>\n",
       "      <td>142.5</td>\n",
       "      <td>0.0</td>\n",
       "      <td>228.0</td>\n",
       "      <td>0.0</td>\n",
       "      <td>932.0</td>\n",
       "      <td>594.0</td>\n",
       "      <td>270</td>\n",
       "      <td>40.27</td>\n",
       "    </tr>\n",
       "    <tr>\n",
       "      <th>3</th>\n",
       "      <td>332.5</td>\n",
       "      <td>142.5</td>\n",
       "      <td>0.0</td>\n",
       "      <td>228.0</td>\n",
       "      <td>0.0</td>\n",
       "      <td>932.0</td>\n",
       "      <td>594.0</td>\n",
       "      <td>365</td>\n",
       "      <td>41.05</td>\n",
       "    </tr>\n",
       "    <tr>\n",
       "      <th>4</th>\n",
       "      <td>198.6</td>\n",
       "      <td>132.4</td>\n",
       "      <td>0.0</td>\n",
       "      <td>192.0</td>\n",
       "      <td>0.0</td>\n",
       "      <td>978.4</td>\n",
       "      <td>825.5</td>\n",
       "      <td>360</td>\n",
       "      <td>44.30</td>\n",
       "    </tr>\n",
       "  </tbody>\n",
       "</table>\n",
       "</div>"
      ],
      "text/plain": [
       "   cement  blast_furnace_slag  fly_ash  water  superplasticizer  \\\n",
       "0   540.0                 0.0      0.0  162.0               2.5   \n",
       "1   540.0                 0.0      0.0  162.0               2.5   \n",
       "2   332.5               142.5      0.0  228.0               0.0   \n",
       "3   332.5               142.5      0.0  228.0               0.0   \n",
       "4   198.6               132.4      0.0  192.0               0.0   \n",
       "\n",
       "   coarse_aggregate  fine_aggregate   age  concrete_compressive_strength  \n",
       "0            1040.0            676.0   28                          79.99  \n",
       "1            1055.0            676.0   28                          61.89  \n",
       "2             932.0            594.0  270                          40.27  \n",
       "3             932.0            594.0  365                          41.05  \n",
       "4             978.4            825.5  360                          44.30  "
      ]
     },
     "execution_count": 78,
     "metadata": {},
     "output_type": "execute_result"
    }
   ],
   "source": [
    "df = pd.read_csv('data/concrete_data.csv')\n",
    "df.head()"
   ]
  },
  {
   "cell_type": "code",
   "execution_count": 79,
   "metadata": {},
   "outputs": [],
   "source": [
    "df = df.drop_duplicates()"
   ]
  },
  {
   "cell_type": "code",
   "execution_count": 80,
   "metadata": {},
   "outputs": [
    {
     "data": {
      "text/plain": [
       "<Axes: >"
      ]
     },
     "execution_count": 80,
     "metadata": {},
     "output_type": "execute_result"
    }
   ],
   "source": [
    "df[['concrete_compressive_strength']].boxplot()"
   ]
  },
  {
   "cell_type": "code",
   "execution_count": 81,
   "metadata": {},
   "outputs": [
    {
     "name": "stdout",
     "output_type": "stream",
     "text": [
      "-8.504999999999999 76.895\n"
     ]
    }
   ],
   "source": [
    "\n",
    "Q1 = df['concrete_compressive_strength'].quantile(0.25)\n",
    "Q3 = df['concrete_compressive_strength'].quantile(0.75)\n",
    "IQR = Q3 - Q1\n",
    "lower_bound = Q1 - (1.5 * IQR)\n",
    "upper_bound = Q3 + (1.5 * IQR)\n",
    "print(lower_bound,upper_bound)"
   ]
  },
  {
   "cell_type": "code",
   "execution_count": 82,
   "metadata": {},
   "outputs": [],
   "source": [
    "df = df[(df['concrete_compressive_strength'] > lower_bound) & (df['concrete_compressive_strength'] < upper_bound)]"
   ]
  },
  {
   "cell_type": "code",
   "execution_count": 83,
   "metadata": {},
   "outputs": [
    {
     "data": {
      "image/png": "[encoded data removed]",
      "text/plain": [
       "<Figure size 640x480 with 1 Axes>"
      ]
     },
     "metadata": {},
     "output_type": "display_data"
    }
   ],
   "source": [
    "df[['concrete_compressive_strength']].boxplot()\n",
    "plt.show()"
   ]
  },
  {
   "cell_type": "code",
   "execution_count": 84,
   "metadata": {},
   "outputs": [
    {
     "data": {
      "text/html": [
       "<div>\n",
       "<style scoped>\n",
       "    .dataframe tbody tr th:only-of-type {\n",
       "        vertical-align: middle;\n",
       "    }\n",
       "\n",
       "    .dataframe tbody tr th {\n",
       "        vertical-align: top;\n",
       "    }\n",
       "\n",
       "    .dataframe thead th {\n",
       "        text-align: right;\n",
       "    }\n",
       "</style>\n",
       "<table border=\"1\" class=\"dataframe\">\n",
       "  <thead>\n",
       "    <tr style=\"text-align: right;\">\n",
       "      <th></th>\n",
       "      <th>cement</th>\n",
       "      <th>blast_furnace_slag</th>\n",
       "      <th>fly_ash</th>\n",
       "      <th>water</th>\n",
       "      <th>superplasticizer</th>\n",
       "      <th>coarse_aggregate</th>\n",
       "      <th>fine_aggregate</th>\n",
       "      <th>age</th>\n",
       "      <th>concrete_compressive_strength</th>\n",
       "    </tr>\n",
       "  </thead>\n",
       "  <tbody>\n",
       "    <tr>\n",
       "      <th>cement</th>\n",
       "      <td>1.000000</td>\n",
       "      <td>-0.310678</td>\n",
       "      <td>-0.381684</td>\n",
       "      <td>-0.048017</td>\n",
       "      <td>0.054157</td>\n",
       "      <td>-0.089450</td>\n",
       "      <td>-0.242293</td>\n",
       "      <td>0.086527</td>\n",
       "      <td>0.482298</td>\n",
       "    </tr>\n",
       "    <tr>\n",
       "      <th>blast_furnace_slag</th>\n",
       "      <td>-0.310678</td>\n",
       "      <td>1.000000</td>\n",
       "      <td>-0.309614</td>\n",
       "      <td>0.138604</td>\n",
       "      <td>0.008556</td>\n",
       "      <td>-0.277670</td>\n",
       "      <td>-0.288899</td>\n",
       "      <td>-0.046140</td>\n",
       "      <td>0.087464</td>\n",
       "    </tr>\n",
       "    <tr>\n",
       "      <th>fly_ash</th>\n",
       "      <td>-0.381684</td>\n",
       "      <td>-0.309614</td>\n",
       "      <td>1.000000</td>\n",
       "      <td>-0.293192</td>\n",
       "      <td>0.426515</td>\n",
       "      <td>-0.025204</td>\n",
       "      <td>0.087098</td>\n",
       "      <td>-0.158606</td>\n",
       "      <td>-0.063737</td>\n",
       "    </tr>\n",
       "    <tr>\n",
       "      <th>water</th>\n",
       "      <td>-0.048017</td>\n",
       "      <td>0.138604</td>\n",
       "      <td>-0.293192</td>\n",
       "      <td>1.000000</td>\n",
       "      <td>-0.645769</td>\n",
       "      <td>-0.211364</td>\n",
       "      <td>-0.451373</td>\n",
       "      <td>0.282298</td>\n",
       "      <td>-0.255585</td>\n",
       "    </tr>\n",
       "    <tr>\n",
       "      <th>superplasticizer</th>\n",
       "      <td>0.054157</td>\n",
       "      <td>0.008556</td>\n",
       "      <td>0.426515</td>\n",
       "      <td>-0.645769</td>\n",
       "      <td>1.000000</td>\n",
       "      <td>-0.241657</td>\n",
       "      <td>0.212463</td>\n",
       "      <td>-0.199195</td>\n",
       "      <td>0.334534</td>\n",
       "    </tr>\n",
       "    <tr>\n",
       "      <th>coarse_aggregate</th>\n",
       "      <td>-0.089450</td>\n",
       "      <td>-0.277670</td>\n",
       "      <td>-0.025204</td>\n",
       "      <td>-0.211364</td>\n",
       "      <td>-0.241657</td>\n",
       "      <td>1.000000</td>\n",
       "      <td>-0.161918</td>\n",
       "      <td>-0.003557</td>\n",
       "      <td>-0.154604</td>\n",
       "    </tr>\n",
       "    <tr>\n",
       "      <th>fine_aggregate</th>\n",
       "      <td>-0.242293</td>\n",
       "      <td>-0.288899</td>\n",
       "      <td>0.087098</td>\n",
       "      <td>-0.451373</td>\n",
       "      <td>0.212463</td>\n",
       "      <td>-0.161918</td>\n",
       "      <td>1.000000</td>\n",
       "      <td>-0.156914</td>\n",
       "      <td>-0.180918</td>\n",
       "    </tr>\n",
       "    <tr>\n",
       "      <th>age</th>\n",
       "      <td>0.086527</td>\n",
       "      <td>-0.046140</td>\n",
       "      <td>-0.158606</td>\n",
       "      <td>0.282298</td>\n",
       "      <td>-0.199195</td>\n",
       "      <td>-0.003557</td>\n",
       "      <td>-0.156914</td>\n",
       "      <td>1.000000</td>\n",
       "      <td>0.345244</td>\n",
       "    </tr>\n",
       "    <tr>\n",
       "      <th>concrete_compressive_strength</th>\n",
       "      <td>0.482298</td>\n",
       "      <td>0.087464</td>\n",
       "      <td>-0.063737</td>\n",
       "      <td>-0.255585</td>\n",
       "      <td>0.334534</td>\n",
       "      <td>-0.154604</td>\n",
       "      <td>-0.180918</td>\n",
       "      <td>0.345244</td>\n",
       "      <td>1.000000</td>\n",
       "    </tr>\n",
       "  </tbody>\n",
       "</table>\n",
       "</div>"
      ],
      "text/plain": [
       "                                 cement  blast_furnace_slag   fly_ash  \\\n",
       "cement                         1.000000           -0.310678 -0.381684   \n",
       "blast_furnace_slag            -0.310678            1.000000 -0.309614   \n",
       "fly_ash                       -0.381684           -0.309614  1.000000   \n",
       "water                         -0.048017            0.138604 -0.293192   \n",
       "superplasticizer               0.054157            0.008556  0.426515   \n",
       "coarse_aggregate              -0.089450           -0.277670 -0.025204   \n",
       "fine_aggregate                -0.242293           -0.288899  0.087098   \n",
       "age                            0.086527           -0.046140 -0.158606   \n",
       "concrete_compressive_strength  0.482298            0.087464 -0.063737   \n",
       "\n",
       "                                  water  superplasticizer  coarse_aggregate  \\\n",
       "cement                        -0.048017          0.054157         -0.089450   \n",
       "blast_furnace_slag             0.138604          0.008556         -0.277670   \n",
       "fly_ash                       -0.293192          0.426515         -0.025204   \n",
       "water                          1.000000         -0.645769         -0.211364   \n",
       "superplasticizer              -0.645769          1.000000         -0.241657   \n",
       "coarse_aggregate              -0.211364         -0.241657          1.000000   \n",
       "fine_aggregate                -0.451373          0.212463         -0.161918   \n",
       "age                            0.282298         -0.199195         -0.003557   \n",
       "concrete_compressive_strength -0.255585          0.334534         -0.154604   \n",
       "\n",
       "                               fine_aggregate        age  \\\n",
       "cement                               -0.242293  0.086527   \n",
       "blast_furnace_slag                   -0.288899 -0.046140   \n",
       "fly_ash                               0.087098 -0.158606   \n",
       "water                                -0.451373  0.282298   \n",
       "superplasticizer                      0.212463 -0.199195   \n",
       "coarse_aggregate                     -0.161918 -0.003557   \n",
       "fine_aggregate                        1.000000 -0.156914   \n",
       "age                                  -0.156914  1.000000   \n",
       "concrete_compressive_strength        -0.180918  0.345244   \n",
       "\n",
       "                               concrete_compressive_strength  \n",
       "cement                                              0.482298  \n",
       "blast_furnace_slag                                  0.087464  \n",
       "fly_ash                                            -0.063737  \n",
       "water                                              -0.255585  \n",
       "superplasticizer                                    0.334534  \n",
       "coarse_aggregate                                   -0.154604  \n",
       "fine_aggregate                                     -0.180918  \n",
       "age                                                 0.345244  \n",
       "concrete_compressive_strength                       1.000000  "
      ]
     },
     "execution_count": 84,
     "metadata": {},
     "output_type": "execute_result"
    }
   ],
   "source": [
    "df.corr()"
   ]
  },
  {
   "cell_type": "code",
   "execution_count": 85,
   "metadata": {},
   "outputs": [],
   "source": [
    "# Dividing Independent and dependent variable\n",
    "X = df.drop('concrete_compressive_strength',axis=1)\n",
    "y = df['concrete_compressive_strength']"
   ]
  },
  {
   "cell_type": "code",
   "execution_count": 86,
   "metadata": {},
   "outputs": [
    {
     "data": {
      "text/plain": [
       "((997, 8), (997,))"
      ]
     },
     "execution_count": 86,
     "metadata": {},
     "output_type": "execute_result"
    }
   ],
   "source": [
    "X.shape,y.shape"
   ]
  },
  {
   "cell_type": "code",
   "execution_count": 91,
   "metadata": {},
   "outputs": [],
   "source": [
    "preprocessor = Pipeline(\n",
    "    steps = [\n",
    "        ('imputer',SimpleImputer(strategy='median')),\n",
    "        ('scaler',PowerTransformer('yeo-johnson'))\n",
    "    ]\n",
    ")"
   ]
  },
  {
   "cell_type": "code",
   "execution_count": 92,
   "metadata": {},
   "outputs": [
    {
     "data": {
      "text/html": [
       "<style>#sk-container-id-6 {color: black;}#sk-container-id-6 pre{padding: 0;}#sk-container-id-6 div.sk-toggleable {background-color: white;}#sk-container-id-6 label.sk-toggleable__label {cursor: pointer;display: block;width: 100%;margin-bottom: 0;padding: 0.3em;box-sizing: border-box;text-align: center;}#sk-container-id-6 label.sk-toggleable__label-arrow:before {content: \"▸\";float: left;margin-right: 0.25em;color: #696969;}#sk-container-id-6 label.sk-toggleable__label-arrow:hover:before {color: black;}#sk-container-id-6 div.sk-estimator:hover label.sk-toggleable__label-arrow:before {color: black;}#sk-container-id-6 div.sk-toggleable__content {max-height: 0;max-width: 0;overflow: hidden;text-align: left;background-color: #f0f8ff;}#sk-container-id-6 div.sk-toggleable__content pre {margin: 0.2em;color: black;border-radius: 0.25em;background-color: #f0f8ff;}#sk-container-id-6 input.sk-toggleable__control:checked~div.sk-toggleable__content {max-height: 200px;max-width: 100%;overflow: auto;}#sk-container-id-6 input.sk-toggleable__control:checked~label.sk-toggleable__label-arrow:before {content: \"▾\";}#sk-container-id-6 div.sk-estimator input.sk-toggleable__control:checked~label.sk-toggleable__label {background-color: #d4ebff;}#sk-container-id-6 div.sk-label input.sk-toggleable__control:checked~label.sk-toggleable__label {background-color: #d4ebff;}#sk-container-id-6 input.sk-hidden--visually {border: 0;clip: rect(1px 1px 1px 1px);clip: rect(1px, 1px, 1px, 1px);height: 1px;margin: -1px;overflow: hidden;padding: 0;position: absolute;width: 1px;}#sk-container-id-6 div.sk-estimator {font-family: monospace;background-color: #f0f8ff;border: 1px dotted black;border-radius: 0.25em;box-sizing: border-box;margin-bottom: 0.5em;}#sk-container-id-6 div.sk-estimator:hover {background-color: #d4ebff;}#sk-container-id-6 div.sk-parallel-item::after {content: \"\";width: 100%;border-bottom: 1px solid gray;flex-grow: 1;}#sk-container-id-6 div.sk-label:hover label.sk-toggleable__label {background-color: #d4ebff;}#sk-container-id-6 div.sk-serial::before {content: \"\";position: absolute;border-left: 1px solid gray;box-sizing: border-box;top: 0;bottom: 0;left: 50%;z-index: 0;}#sk-container-id-6 div.sk-serial {display: flex;flex-direction: column;align-items: center;background-color: white;padding-right: 0.2em;padding-left: 0.2em;position: relative;}#sk-container-id-6 div.sk-item {position: relative;z-index: 1;}#sk-container-id-6 div.sk-parallel {display: flex;align-items: stretch;justify-content: center;background-color: white;position: relative;}#sk-container-id-6 div.sk-item::before, #sk-container-id-6 div.sk-parallel-item::before {content: \"\";position: absolute;border-left: 1px solid gray;box-sizing: border-box;top: 0;bottom: 0;left: 50%;z-index: -1;}#sk-container-id-6 div.sk-parallel-item {display: flex;flex-direction: column;z-index: 1;position: relative;background-color: white;}#sk-container-id-6 div.sk-parallel-item:first-child::after {align-self: flex-end;width: 50%;}#sk-container-id-6 div.sk-parallel-item:last-child::after {align-self: flex-start;width: 50%;}#sk-container-id-6 div.sk-parallel-item:only-child::after {width: 0;}#sk-container-id-6 div.sk-dashed-wrapped {border: 1px dashed gray;margin: 0 0.4em 0.5em 0.4em;box-sizing: border-box;padding-bottom: 0.4em;background-color: white;}#sk-container-id-6 div.sk-label label {font-family: monospace;font-weight: bold;display: inline-block;line-height: 1.2em;}#sk-container-id-6 div.sk-label-container {text-align: center;}#sk-container-id-6 div.sk-container {/* jupyter's `normalize.less` sets `[hidden] { display: none; }` but bootstrap.min.css set `[hidden] { display: none !important; }` so we also need the `!important` here to be able to override the default hidden behavior on the sphinx rendered scikit-learn.org. See: https://github.com/scikit-learn/scikit-learn/issues/21755 */display: inline-block !important;position: relative;}#sk-container-id-6 div.sk-text-repr-fallback {display: none;}</style><div id=\"sk-container-id-6\" class=\"sk-top-container\"><div class=\"sk-text-repr-fallback\"><pre>Pipeline(steps=[(&#x27;imputer&#x27;, SimpleImputer(strategy=&#x27;median&#x27;)),\n",
       "                (&#x27;scaler&#x27;, PowerTransformer())])</pre><b>In a Jupyter environment, please rerun this cell to show the HTML representation or trust the notebook. <br />On GitHub, the HTML representation is unable to render, please try loading this page with nbviewer.org.</b></div><div class=\"sk-container\" hidden><div class=\"sk-item sk-dashed-wrapped\"><div class=\"sk-label-container\"><div class=\"sk-label sk-toggleable\"><input class=\"sk-toggleable__control sk-hidden--visually\" id=\"sk-estimator-id-16\" type=\"checkbox\" ><label for=\"sk-estimator-id-16\" class=\"sk-toggleable__label sk-toggleable__label-arrow\">Pipeline</label><div class=\"sk-toggleable__content\"><pre>Pipeline(steps=[(&#x27;imputer&#x27;, SimpleImputer(strategy=&#x27;median&#x27;)),\n",
       "                (&#x27;scaler&#x27;, PowerTransformer())])</pre></div></div></div><div class=\"sk-serial\"><div class=\"sk-item\"><div class=\"sk-estimator sk-toggleable\"><input class=\"sk-toggleable__control sk-hidden--visually\" id=\"sk-estimator-id-17\" type=\"checkbox\" ><label for=\"sk-estimator-id-17\" class=\"sk-toggleable__label sk-toggleable__label-arrow\">SimpleImputer</label><div class=\"sk-toggleable__content\"><pre>SimpleImputer(strategy=&#x27;median&#x27;)</pre></div></div></div><div class=\"sk-item\"><div class=\"sk-estimator sk-toggleable\"><input class=\"sk-toggleable__control sk-hidden--visually\" id=\"sk-estimator-id-18\" type=\"checkbox\" ><label for=\"sk-estimator-id-18\" class=\"sk-toggleable__label sk-toggleable__label-arrow\">PowerTransformer</label><div class=\"sk-toggleable__content\"><pre>PowerTransformer()</pre></div></div></div></div></div></div></div>"
      ],
      "text/plain": [
       "Pipeline(steps=[('imputer', SimpleImputer(strategy='median')),\n",
       "                ('scaler', PowerTransformer())])"
      ]
     },
     "execution_count": 92,
     "metadata": {},
     "output_type": "execute_result"
    }
   ],
   "source": [
    "preprocessor"
   ]
  },
  {
   "cell_type": "code",
   "execution_count": 93,
   "metadata": {},
   "outputs": [
    {
     "data": {
      "text/plain": [
       "((697, 8), (300, 8), (697,), (300,))"
      ]
     },
     "execution_count": 93,
     "metadata": {},
     "output_type": "execute_result"
    }
   ],
   "source": [
    "## Train-test Split\n",
    "\n",
    "X_train,X_test,y_train,y_test = train_test_split(X,y,test_size=0.3,random_state=30)\n",
    "X_train.shape,X_test.shape,y_train.shape,y_test.shape"
   ]
  },
  {
   "cell_type": "code",
   "execution_count": 94,
   "metadata": {},
   "outputs": [],
   "source": [
    "X_train = pd.DataFrame(preprocessor.fit_transform(X_train),columns=preprocessor.get_feature_names_out())"
   ]
  },
  {
   "cell_type": "code",
   "execution_count": 95,
   "metadata": {},
   "outputs": [
    {
     "data": {
      "text/html": [
       "<div>\n",
       "<style scoped>\n",
       "    .dataframe tbody tr th:only-of-type {\n",
       "        vertical-align: middle;\n",
       "    }\n",
       "\n",
       "    .dataframe tbody tr th {\n",
       "        vertical-align: top;\n",
       "    }\n",
       "\n",
       "    .dataframe thead th {\n",
       "        text-align: right;\n",
       "    }\n",
       "</style>\n",
       "<table border=\"1\" class=\"dataframe\">\n",
       "  <thead>\n",
       "    <tr style=\"text-align: right;\">\n",
       "      <th></th>\n",
       "      <th>cement</th>\n",
       "      <th>blast_furnace_slag</th>\n",
       "      <th>fly_ash</th>\n",
       "      <th>water</th>\n",
       "      <th>superplasticizer</th>\n",
       "      <th>coarse_aggregate</th>\n",
       "      <th>fine_aggregate</th>\n",
       "      <th>age</th>\n",
       "    </tr>\n",
       "  </thead>\n",
       "  <tbody>\n",
       "    <tr>\n",
       "      <th>0</th>\n",
       "      <td>0.229556</td>\n",
       "      <td>1.147235</td>\n",
       "      <td>-0.939041</td>\n",
       "      <td>0.472568</td>\n",
       "      <td>-1.223549</td>\n",
       "      <td>-0.582231</td>\n",
       "      <td>-0.671718</td>\n",
       "      <td>-1.667314</td>\n",
       "    </tr>\n",
       "    <tr>\n",
       "      <th>1</th>\n",
       "      <td>1.390274</td>\n",
       "      <td>1.113239</td>\n",
       "      <td>-0.939041</td>\n",
       "      <td>0.192999</td>\n",
       "      <td>0.934820</td>\n",
       "      <td>-1.175560</td>\n",
       "      <td>-0.790135</td>\n",
       "      <td>0.702138</td>\n",
       "    </tr>\n",
       "    <tr>\n",
       "      <th>2</th>\n",
       "      <td>-0.143534</td>\n",
       "      <td>-1.047616</td>\n",
       "      <td>-0.939041</td>\n",
       "      <td>0.005238</td>\n",
       "      <td>-1.223549</td>\n",
       "      <td>1.609461</td>\n",
       "      <td>0.642457</td>\n",
       "      <td>-1.049278</td>\n",
       "    </tr>\n",
       "    <tr>\n",
       "      <th>3</th>\n",
       "      <td>-0.315153</td>\n",
       "      <td>1.060507</td>\n",
       "      <td>-0.939041</td>\n",
       "      <td>0.333089</td>\n",
       "      <td>0.315508</td>\n",
       "      <td>0.045127</td>\n",
       "      <td>-0.149327</td>\n",
       "      <td>0.099309</td>\n",
       "    </tr>\n",
       "    <tr>\n",
       "      <th>4</th>\n",
       "      <td>0.238797</td>\n",
       "      <td>-1.047616</td>\n",
       "      <td>-0.939041</td>\n",
       "      <td>0.472568</td>\n",
       "      <td>-1.223549</td>\n",
       "      <td>-0.820218</td>\n",
       "      <td>1.717383</td>\n",
       "      <td>-1.049278</td>\n",
       "    </tr>\n",
       "    <tr>\n",
       "      <th>...</th>\n",
       "      <td>...</td>\n",
       "      <td>...</td>\n",
       "      <td>...</td>\n",
       "      <td>...</td>\n",
       "      <td>...</td>\n",
       "      <td>...</td>\n",
       "      <td>...</td>\n",
       "      <td>...</td>\n",
       "    </tr>\n",
       "    <tr>\n",
       "      <th>692</th>\n",
       "      <td>0.238797</td>\n",
       "      <td>-1.047616</td>\n",
       "      <td>-0.939041</td>\n",
       "      <td>0.472568</td>\n",
       "      <td>-1.223549</td>\n",
       "      <td>-0.820218</td>\n",
       "      <td>1.717383</td>\n",
       "      <td>1.119521</td>\n",
       "    </tr>\n",
       "    <tr>\n",
       "      <th>693</th>\n",
       "      <td>0.880298</td>\n",
       "      <td>1.136205</td>\n",
       "      <td>-0.939041</td>\n",
       "      <td>0.426142</td>\n",
       "      <td>0.469646</td>\n",
       "      <td>-1.928064</td>\n",
       "      <td>-0.187406</td>\n",
       "      <td>0.099309</td>\n",
       "    </tr>\n",
       "    <tr>\n",
       "      <th>694</th>\n",
       "      <td>-1.455159</td>\n",
       "      <td>-1.047616</td>\n",
       "      <td>1.214510</td>\n",
       "      <td>-0.023024</td>\n",
       "      <td>1.279484</td>\n",
       "      <td>-1.745520</td>\n",
       "      <td>1.554728</td>\n",
       "      <td>0.099309</td>\n",
       "    </tr>\n",
       "    <tr>\n",
       "      <th>695</th>\n",
       "      <td>-0.840375</td>\n",
       "      <td>-1.047616</td>\n",
       "      <td>1.091445</td>\n",
       "      <td>-0.728593</td>\n",
       "      <td>0.812475</td>\n",
       "      <td>1.329343</td>\n",
       "      <td>0.357457</td>\n",
       "      <td>0.702138</td>\n",
       "    </tr>\n",
       "    <tr>\n",
       "      <th>696</th>\n",
       "      <td>-1.283450</td>\n",
       "      <td>1.041352</td>\n",
       "      <td>1.065914</td>\n",
       "      <td>-0.326110</td>\n",
       "      <td>1.279484</td>\n",
       "      <td>-0.314603</td>\n",
       "      <td>-0.645190</td>\n",
       "      <td>0.099309</td>\n",
       "    </tr>\n",
       "  </tbody>\n",
       "</table>\n",
       "<p>697 rows × 8 columns</p>\n",
       "</div>"
      ],
      "text/plain": [
       "       cement  blast_furnace_slag   fly_ash     water  superplasticizer  \\\n",
       "0    0.229556            1.147235 -0.939041  0.472568         -1.223549   \n",
       "1    1.390274            1.113239 -0.939041  0.192999          0.934820   \n",
       "2   -0.143534           -1.047616 -0.939041  0.005238         -1.223549   \n",
       "3   -0.315153            1.060507 -0.939041  0.333089          0.315508   \n",
       "4    0.238797           -1.047616 -0.939041  0.472568         -1.223549   \n",
       "..        ...                 ...       ...       ...               ...   \n",
       "692  0.238797           -1.047616 -0.939041  0.472568         -1.223549   \n",
       "693  0.880298            1.136205 -0.939041  0.426142          0.469646   \n",
       "694 -1.455159           -1.047616  1.214510 -0.023024          1.279484   \n",
       "695 -0.840375           -1.047616  1.091445 -0.728593          0.812475   \n",
       "696 -1.283450            1.041352  1.065914 -0.326110          1.279484   \n",
       "\n",
       "     coarse_aggregate  fine_aggregate        age  \n",
       "0           -0.582231        -0.671718 -1.667314  \n",
       "1           -1.175560        -0.790135  0.702138  \n",
       "2            1.609461         0.642457 -1.049278  \n",
       "3            0.045127        -0.149327  0.099309  \n",
       "4           -0.820218         1.717383 -1.049278  \n",
       "..                ...              ...       ...  \n",
       "692         -0.820218         1.717383  1.119521  \n",
       "693         -1.928064        -0.187406  0.099309  \n",
       "694         -1.745520         1.554728  0.099309  \n",
       "695          1.329343         0.357457  0.702138  \n",
       "696         -0.314603        -0.645190  0.099309  \n",
       "\n",
       "[697 rows x 8 columns]"
      ]
     },
     "execution_count": 95,
     "metadata": {},
     "output_type": "execute_result"
    }
   ],
   "source": [
    "X_train"
   ]
  },
  {
   "cell_type": "markdown",
   "metadata": {},
   "source": [
    "## Model training"
   ]
  },
  {
   "cell_type": "code",
   "execution_count": 96,
   "metadata": {},
   "outputs": [],
   "source": [
    "from sklearn.linear_model import LinearRegression,Lasso,Ridge,ElasticNet\n",
    "from sklearn.tree import DecisionTreeRegressor\n",
    "from sklearn.svm import SVR\n",
    "from sklearn.ensemble import RandomForestRegressor\n",
    "from sklearn.neighbors import KNeighborsRegressor\n",
    "from xgboost import XGBRegressor\n",
    "from sklearn.model_selection import KFold,cross_val_score\n",
    "from sklearn.metrics import mean_absolute_error,mean_squared_error,r2_score"
   ]
  },
  {
   "cell_type": "code",
   "execution_count": 97,
   "metadata": {},
   "outputs": [],
   "source": [
    "cv = KFold(n_splits=6,shuffle=True,random_state=42)"
   ]
  },
  {
   "cell_type": "code",
   "execution_count": 98,
   "metadata": {},
   "outputs": [],
   "source": [
    "## Training Mutliple models\n",
    "models_list = {\n",
    "    'Linear_Regression':LinearRegression(),\n",
    "    'Lasso':Lasso(),\n",
    "    'ridge':Ridge(),\n",
    "    'Elasticnet':ElasticNet(),\n",
    "    'Decision_Tree':DecisionTreeRegressor(),\n",
    "    'SVR':SVR(),\n",
    "    'Random_Forest':RandomForestRegressor(),\n",
    "    'k_nearest':KNeighborsRegressor(),\n",
    "    'Xgboost':XGBRegressor()\n",
    "}"
   ]
  },
  {
   "cell_type": "code",
   "execution_count": 99,
   "metadata": {},
   "outputs": [],
   "source": [
    "def Evaluate_model(actual,predicted):\n",
    "    mae = mean_absolute_error(actual,predicted)\n",
    "    mse = mean_squared_error(actual,predicted)\n",
    "    r2_square = r2_score(actual,predicted)\n",
    "    return mae,mse,r2_square"
   ]
  },
  {
   "cell_type": "code",
   "execution_count": 100,
   "metadata": {},
   "outputs": [],
   "source": [
    "r2_list = []\n",
    "trained_model_list = []"
   ]
  },
  {
   "cell_type": "code",
   "execution_count": 101,
   "metadata": {},
   "outputs": [
    {
     "name": "stdout",
     "output_type": "stream",
     "text": [
      "Linear_Regression\n",
      "MOdel Training Performace\n",
      "Mean Squared Error :  45.79076459499859\n",
      "Mean Absolute Error : 5.2099412530992435\n",
      "R2_Square : 0.8140178000666117\n",
      "===================================\n",
      "\n",
      "\n",
      "Lasso\n",
      "MOdel Training Performace\n",
      "Mean Squared Error :  53.36552157050109\n",
      "Mean Absolute Error : 5.62343729944599\n",
      "R2_Square : 0.7832524267708226\n",
      "===================================\n",
      "\n",
      "\n",
      "ridge\n",
      "MOdel Training Performace\n",
      "Mean Squared Error :  45.780924054535504\n",
      "Mean Absolute Error : 5.208935566359583\n",
      "R2_Square : 0.8140577680684576\n",
      "===================================\n",
      "\n",
      "\n",
      "Elasticnet\n",
      "MOdel Training Performace\n",
      "Mean Squared Error :  76.80470693678329\n",
      "Mean Absolute Error : 7.106300216535915\n",
      "R2_Square : 0.6880526348996081\n",
      "===================================\n",
      "\n",
      "\n",
      "Decision_Tree\n",
      "MOdel Training Performace\n",
      "Mean Squared Error :  52.19078908333333\n",
      "Mean Absolute Error : 4.642083333333333\n",
      "R2_Square : 0.7880236799750232\n",
      "===================================\n",
      "\n",
      "\n",
      "SVR\n",
      "MOdel Training Performace\n",
      "Mean Squared Error :  57.80982520467619\n",
      "Mean Absolute Error : 5.63734653334478\n",
      "R2_Square : 0.7652015954652865\n",
      "===================================\n",
      "\n",
      "\n",
      "Random_Forest\n",
      "MOdel Training Performace\n",
      "Mean Squared Error :  19.77475907315107\n",
      "Mean Absolute Error : 3.2927298825396805\n",
      "R2_Square : 0.9196835163573779\n",
      "===================================\n",
      "\n",
      "\n",
      "k_nearest\n",
      "MOdel Training Performace\n",
      "Mean Squared Error :  37.27834440000001\n",
      "Mean Absolute Error : 4.4182266666666665\n",
      "R2_Square : 0.8485915541549232\n",
      "===================================\n",
      "\n",
      "\n",
      "Xgboost\n",
      "MOdel Training Performace\n",
      "Mean Squared Error :  17.237958716131615\n",
      "Mean Absolute Error : 2.770846897951762\n",
      "R2_Square : 0.9299868977348928\n",
      "===================================\n",
      "\n",
      "\n"
     ]
    }
   ],
   "source": [
    "for i in range(len(models_list)):\n",
    "    model = list(models_list.values())[i]\n",
    "    model.fit(X_train,y_train)\n",
    "\n",
    "    # Prediction\n",
    "    y_pred = model.predict(pd.DataFrame(preprocessor.transform(X_test),columns=preprocessor.get_feature_names_out()))\n",
    "    \n",
    "    # Evaluate\n",
    "    mae,mse,r2_square = Evaluate_model(y_test,y_pred)\n",
    "    \n",
    "    trained_model_list.append(list(models_list.keys())[i])\n",
    "\n",
    "    print(list(models_list.keys())[i])\n",
    "    print('MOdel Training Performace')\n",
    "    print('Mean Squared Error : ',mse)\n",
    "    print('Mean Absolute Error :',mae)\n",
    "    print('R2_Square :',r2_square)\n",
    "    print('='*35)\n",
    "    print('\\n')\n",
    "    r2_list.append(r2_square)\n"
   ]
  },
  {
   "cell_type": "code",
   "execution_count": null,
   "metadata": {},
   "outputs": [],
   "source": []
  }
 ],
 "metadata": {
  "kernelspec": {
   "display_name": "Python 3",
   "language": "python",
   "name": "python3"
  },
  "language_info": {
   "codemirror_mode": {
    "name": "ipython",
    "version": 3
   },
   "file_extension": ".py",
   "mimetype": "text/x-python",
   "name": "python",
   "nbconvert_exporter": "python",
   "pygments_lexer": "ipython3",
   "version": "3.8.0"
  },
  "orig_nbformat": 4
 },
 "nbformat": 4,
 "nbformat_minor": 2
}
